{
 "cells": [
  {
   "cell_type": "code",
   "execution_count": 1,
   "id": "9f6d4d76",
   "metadata": {},
   "outputs": [
    {
     "name": "stderr",
     "output_type": "stream",
     "text": [
      "2022-06-04 06:53:25.218878: W tensorflow/stream_executor/platform/default/dso_loader.cc:64] Could not load dynamic library 'libcudart.so.11.0'; dlerror: libcudart.so.11.0: cannot open shared object file: No such file or directory\n",
      "2022-06-04 06:53:25.218913: I tensorflow/stream_executor/cuda/cudart_stub.cc:29] Ignore above cudart dlerror if you do not have a GPU set up on your machine.\n"
     ]
    }
   ],
   "source": [
    "# from tkinter import *\n",
    "from tkinter import messagebox\n",
    "# import tkinter as tk\n",
    "\n",
    "\n",
    "import tkinter as tk\n",
    "from tkinter import filedialog\n",
    "from tkinter import *\n",
    "from PIL import Image, ImageTk\n",
    "import numpy as np\n",
    "from keras.models import load_model"
   ]
  },
  {
   "cell_type": "code",
   "execution_count": 2,
   "id": "d94a8cf4",
   "metadata": {},
   "outputs": [
    {
     "name": "stderr",
     "output_type": "stream",
     "text": [
      "2022-06-04 06:53:28.310819: W tensorflow/stream_executor/platform/default/dso_loader.cc:64] Could not load dynamic library 'libcuda.so.1'; dlerror: libcuda.so.1: cannot open shared object file: No such file or directory\n",
      "2022-06-04 06:53:28.310866: W tensorflow/stream_executor/cuda/cuda_driver.cc:269] failed call to cuInit: UNKNOWN ERROR (303)\n",
      "2022-06-04 06:53:28.310907: I tensorflow/stream_executor/cuda/cuda_diagnostics.cc:156] kernel driver does not appear to be running on this host (majid): /proc/driver/nvidia/version does not exist\n"
     ]
    }
   ],
   "source": [
    "model = load_model(r'models/traffic_classifier_v2.h5')"
   ]
  },
  {
   "cell_type": "code",
   "execution_count": 3,
   "id": "d9fa4410",
   "metadata": {},
   "outputs": [],
   "source": [
    "# top.geometry('800x700')"
   ]
  },
  {
   "cell_type": "code",
   "execution_count": 4,
   "id": "d4b941dc",
   "metadata": {},
   "outputs": [],
   "source": [
    "# c = Canvas(top, bg= 'gray16', height = 200, width = 200)\n",
    "# filename = PhotoImage(file=\"Pics//n12.jpg\")\n",
    "# background_label = Label(top, image = filename)\n",
    "# background_label.place(x = 0, y= 0, relwidth =1, relheight=1)\n",
    "\n",
    "# c.pack()\n",
    "# top.mainloop()"
   ]
  },
  {
   "cell_type": "code",
   "execution_count": 5,
   "id": "e114e9d4",
   "metadata": {},
   "outputs": [],
   "source": [
    "root = Tk()"
   ]
  },
  {
   "cell_type": "code",
   "execution_count": 6,
   "id": "3042fe5e",
   "metadata": {},
   "outputs": [],
   "source": [
    "from PIL import ImageTk, Image\n",
    "canvas = Canvas(root, width = 1280, height = 843)\n",
    "\n",
    "image = ImageTk.PhotoImage(Image.open(\"Pics/bg7.jpg\"))\n",
    "\n",
    "canvas.create_image(0,0, anchor = NW, image = image)\n",
    "canvas.pack()\n",
    "root.mainloop()"
   ]
  },
  {
   "cell_type": "code",
   "execution_count": null,
   "id": "731527b4",
   "metadata": {},
   "outputs": [],
   "source": []
  }
 ],
 "metadata": {
  "kernelspec": {
   "display_name": "Python 3 (ipykernel)",
   "language": "python",
   "name": "python3"
  },
  "language_info": {
   "codemirror_mode": {
    "name": "ipython",
    "version": 3
   },
   "file_extension": ".py",
   "mimetype": "text/x-python",
   "name": "python",
   "nbconvert_exporter": "python",
   "pygments_lexer": "ipython3",
   "version": "3.10.9"
  }
 },
 "nbformat": 4,
 "nbformat_minor": 5
}
